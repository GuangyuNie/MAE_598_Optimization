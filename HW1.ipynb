{
  "nbformat": 4,
  "nbformat_minor": 0,
  "metadata": {
    "colab": {
      "name": "HW1.ipynb",
      "provenance": [],
      "authorship_tag": "ABX9TyNdpDfHpVFS8Fvricka7eVr",
      "include_colab_link": true
    },
    "kernelspec": {
      "name": "python3",
      "display_name": "Python 3"
    },
    "language_info": {
      "name": "python"
    }
  },
  "cells": [
    {
      "cell_type": "markdown",
      "metadata": {
        "id": "view-in-github",
        "colab_type": "text"
      },
      "source": [
        "<a href=\"https://colab.research.google.com/github/GuangyuNie/MAE_598_Optimization/blob/master/HW1.ipynb\" target=\"_parent\"><img src=\"https://colab.research.google.com/assets/colab-badge.svg\" alt=\"Open In Colab\"/></a>"
      ]
    },
    {
      "cell_type": "markdown",
      "source": [
        "**Problem 1: **"
      ],
      "metadata": {
        "id": "knu7kyolMU3A"
      }
    },
    {
      "cell_type": "code",
      "execution_count": 1,
      "metadata": {
        "id": "H9FjhDQXL_Cs"
      },
      "outputs": [],
      "source": [
        "import numpy as np\n",
        "from scipy.optimize import minimize"
      ]
    },
    {
      "cell_type": "markdown",
      "source": [
        "minimize: $(x_1 −x_2)^2 + (x_2 + x_3 −2)^2 + (x_4 −1)^2 + (x_5 −1)^2$"
      ],
      "metadata": {
        "id": "gkF5et5sROub"
      }
    },
    {
      "cell_type": "code",
      "source": [
        "def func(x):\n",
        "  # Define function\n",
        "    return (x[0]-x[1])**2 + (x[1]-x[2]-2)**2 + (x[3]-1)**2 + (x[4]-1)**2"
      ],
      "metadata": {
        "id": "pNCLTnYaOSJy"
      },
      "execution_count": 11,
      "outputs": []
    },
    {
      "cell_type": "markdown",
      "source": [
        "Define Constraint: \\\\\n",
        "$x_1 + 3x_2 = 0$ \\\\\n",
        "$x_3 + x_4 −2x_5 = 0$ \\\\\n",
        "$x2 −x5 = 0$ \\\\\n",
        "$−10 ≤x_i ≤10, i = 1, . . . , 5$"
      ],
      "metadata": {
        "id": "zn4uuePBQXi1"
      }
    },
    {
      "cell_type": "code",
      "source": [
        "def eq_constraint_1(x):\n",
        "    return x[0] + 3*x[1]\n",
        "\n",
        "def eq_constraint_2(x):\n",
        "    return x[2] + x[3] - 2*x[4]\n",
        "\n",
        "def eq_constraint_3(x):\n",
        "    return x[1] - x[4]\n",
        "\n",
        "\n",
        "\n",
        "con = [{'type': 'eq', 'fun': eq_constraint_1},{'type': 'eq', 'fun': eq_constraint_2},{'type': 'eq', 'fun': eq_constraint_3,}]"
      ],
      "metadata": {
        "id": "d5FJyyXvP_YH"
      },
      "execution_count": 15,
      "outputs": []
    },
    {
      "cell_type": "code",
      "source": [
        "x_init = np.array([1.3, 0.7, 0.8, 1.9, 1.2])\n",
        "res = minimize(func, x_init, method='SLSQP', constraints=con, bounds=[(-10, 10) for i in range(len(x_init))])\n",
        "print(res)"
      ],
      "metadata": {
        "colab": {
          "base_uri": "https://localhost:8080/"
        },
        "id": "dLKeyokSOpMD",
        "outputId": "0fa1b84e-b949-473e-f460-bde113c75e47"
      },
      "execution_count": 16,
      "outputs": [
        {
          "output_type": "stream",
          "name": "stdout",
          "text": [
            "     fun: 1.4857142973275819\n",
            "     jac: array([-0.22877376, -0.79985186,  1.02862567,  1.02856779, -1.94280654])\n",
            " message: 'Optimization terminated successfully'\n",
            "    nfev: 42\n",
            "     nit: 7\n",
            "    njev: 7\n",
            "  status: 0\n",
            " success: True\n",
            "       x: array([-0.08579016,  0.02859672, -1.45709045,  1.5142839 ,  0.02859672])\n"
          ]
        }
      ]
    },
    {
      "cell_type": "markdown",
      "source": [
        "Change initial guesss"
      ],
      "metadata": {
        "id": "MvYcvLgsULN5"
      }
    },
    {
      "cell_type": "code",
      "source": [
        "x_init = np.array([5, 8, 10, 20, 25])\n",
        "res = minimize(func, x_init, method='SLSQP', constraints=con, bounds=[(-10, 10) for i in range(len(x_init))])\n",
        "print(res)"
      ],
      "metadata": {
        "colab": {
          "base_uri": "https://localhost:8080/"
        },
        "id": "tyGG2rVgUEwz",
        "outputId": "fba06051-a395-43d1-ac5e-2062c4ea5030"
      },
      "execution_count": 17,
      "outputs": [
        {
          "output_type": "stream",
          "name": "stdout",
          "text": [
            "     fun: 1.4857143069338945\n",
            "     jac: array([-0.22836129, -0.80031908,  1.02868044,  1.02840993, -1.94290966])\n",
            " message: 'Optimization terminated successfully'\n",
            "    nfev: 32\n",
            "     nit: 5\n",
            "    njev: 5\n",
            "  status: 0\n",
            " success: True\n",
            "       x: array([-0.08563549,  0.02854516, -1.45711462,  1.51420495,  0.02854516])\n"
          ]
        }
      ]
    },
    {
      "cell_type": "markdown",
      "source": [
        "I get almost identical solutions after changing initial guesses"
      ],
      "metadata": {
        "id": "Z91FgstdUOW6"
      }
    },
    {
      "cell_type": "markdown",
      "source": [
        "**Problem 2:**"
      ],
      "metadata": {
        "id": "Lvu54yypT7FY"
      }
    }
  ]
}