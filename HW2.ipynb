{
  "nbformat": 4,
  "nbformat_minor": 0,
  "metadata": {
    "colab": {
      "provenance": [],
      "authorship_tag": "ABX9TyONJVJ90fZ67gVCvU9y82zL",
      "include_colab_link": true
    },
    "kernelspec": {
      "name": "python3",
      "display_name": "Python 3"
    },
    "language_info": {
      "name": "python"
    }
  },
  "cells": [
    {
      "cell_type": "markdown",
      "metadata": {
        "id": "view-in-github",
        "colab_type": "text"
      },
      "source": [
        "<a href=\"https://colab.research.google.com/github/GuangyuNie/MAE_598_Optimization/blob/master/HW2.ipynb\" target=\"_parent\"><img src=\"https://colab.research.google.com/assets/colab-badge.svg\" alt=\"Open In Colab\"/></a>"
      ]
    },
    {
      "cell_type": "markdown",
      "source": [
        "**P1.**\n",
        "\n",
        "Show stationry point of $f(x1,x2) = 2x_1^2 - 4x_1x_2 + 1.5x_2^2 + x_2$ is a saddle\n",
        "\n",
        "\\begin{equation}\n",
        "\\begin{aligned}\n",
        "\\frac{\\partial f}{\\partial x} = \\begin{bmatrix}4x_1 - 4x_2 \\\\ -4x_1 + 3x_2 + 1 \\end{bmatrix} \\\\\n",
        "\\end{aligned}\n",
        "\\end{equation}\n",
        "\n",
        "Let $\\frac{\\partial f}{\\partial x}$ = 0, we have: \\\\\n",
        "\n",
        "\\begin{equation}\n",
        "\\begin{aligned}\n",
        "x_2 = 1\\\\\n",
        "x_1 = 1\\\\\n",
        "\\end{aligned}\n",
        "\\end{equation}\n",
        "\\begin{equation}\n",
        "\\begin{aligned}\n",
        "Hf(x_1,x_2)|_{x_1=1,x_2=1} &= \\begin{bmatrix}4& -4 \\\\ -4 & 3  \\end{bmatrix} \\\\\n",
        "\\end{aligned}\n",
        "\\end{equation}\n",
        "\n",
        "$Hf$ evaluated at $x_1 = 1$ and $x_2 = 1$ is indefinite matrix, thus this stationary point is a saddle point\n",
        "\n",
        "   \n",
        "  \n",
        "\\begin{equation}\n",
        "\\begin{aligned}\n",
        "f(x_1,x_2) - f(1,1) = \\nabla \\frac{\\partial f}{\\partial x}|_{x_1=1,x_2=1} \\begin{bmatrix}x_1 - 1 \\\\ x_2-1  \\end{bmatrix}\\\\+ \\frac{1}{2} \\begin{bmatrix}x_1 - 1 \\\\ x_2-1 \\end{bmatrix}^T  Hf|_{x_1=1,x_2=1} \\begin{bmatrix}x_1 - 1 \\\\ x_2-1 \\end{bmatrix} < 0 \\\\\n",
        "(2x_1 - 3x_2 + 1)(2x_1-x_2-1) < 0\n",
        "\\end{aligned}\n",
        "\\end{equation}  \n",
        "\n",
        "Thus, either $2x_1 - 3x_2 + 1 < 0 $ and $2x_1-x_2-1 > 0 $ or   \n",
        "$2x_1 - 3x_2 + 1 > 0 $ and $2x_1-x_2-1 < 0 $ \n",
        "\n",
        "\n"
      ],
      "metadata": {
        "id": "RTwcm6aPellO"
      }
    },
    {
      "cell_type": "markdown",
      "source": [
        "**P2**\n",
        "\n",
        "\\begin{equation}\n",
        "\\begin{aligned}\n",
        "\\min_{x_1,x_2,x_3} &(x_1+1)^2 + x_2^2 + (x_3-1)^2 \\\\\n",
        "s.t. &x_1 + 2x_2 + 3x_3 = 1 \\\\\n",
        "\\end{aligned}\n",
        "\\end{equation}\n",
        "\n",
        "You can substitute the constraint into the equation, which will turn the optimization problem into an unconstraint problem, which will give a convex set. we calculate the hession to see if this is a convex function:\n",
        "\n",
        "\\begin{equation}\n",
        "\\begin{aligned}\n",
        "f(x_2,x_3) = &(2-2x_2-3x_3)^2 + x_2^2 + (x_3-1)^2  \\\\\n",
        "= &5 x_2^2 + 12 x_3 x_2 - 8 x_2 + 10 x_3^2 - 14 x_3 + 5\n",
        "\\end{aligned}\n",
        "\\end{equation}\n",
        "\n",
        "\\begin{equation}\n",
        "\\begin{aligned}\n",
        "\\nabla f(x_2,x_3) = \\begin{bmatrix}10x_2 + 12x_2 - 8 \\\\ 12x_2 + 20x_3 - 14 \\end{bmatrix}\n",
        "\\end{aligned}\n",
        "\\end{equation}\n",
        "Which leads to x_2 = -1/7, x_3 = 11/14, x_1 = -15/14\n",
        "\n",
        "\\begin{equation}\n",
        "\\begin{aligned}\n",
        "Hf(x_2,x_3)|x_1, x_2, x_3 = \\begin{bmatrix} 10& 12 \\\\ 12& 20 \\end{bmatrix}\n",
        "\\end{aligned}\n",
        "\\end{equation}\n",
        "\n",
        "The hessian matrix for f(x_2, x_3) have a eigenvalue of 28 and 2, thus the hessian is positive definite, which means the function is convex."
      ],
      "metadata": {
        "id": "CCUT3Em7pZGa"
      }
    },
    {
      "cell_type": "code",
      "source": [
        "import numpy as np\n",
        "import matplotlib.pyplot as plt\n",
        "\n",
        "def obj(x):\n",
        "    return 5 * x[0] ** 2 + 10 * x[1] ** 2 + 12 * x[0] * x[1] - 8 * x[0] - 14 * x[1] + 5\n",
        "\n",
        "def grad(x):\n",
        "    return np.array([10 * x[0] + 12 * x[1] - 8, 20 * x[1] + 12 * x[0] - 14])\n",
        "\n",
        "def get_x1(x):\n",
        "  return 1 - 2*x[0] - 3*x[1]\n",
        "\n",
        "init_x = [1,1]\n",
        "print('initial x is: {}'.format(init_x))\n",
        "lr = 0.05\n",
        "total_L = []\n",
        "for i in range(100):\n",
        "  L = obj(init_x)\n",
        "  grad_x = grad(init_x)\n",
        "  init_x[0] += -lr*grad_x[0]\n",
        "  init_x[1] += -lr*grad_x[1]\n",
        "  total_L.append(L)\n",
        "  if (i+1) % 10 == 0:\n",
        "    print('steps: {}, Loss:{:.4f}, x1: {:.4f}, x2: {:.4f}, x3: {:.4f}'.format(i+1, L, get_x1(init_x), init_x[0], init_x[1]))\n",
        "\n",
        "plt.yscale('log')\n",
        "plt.plot(total_L)\n",
        "plt.xlabel('iteration')\n",
        "plt.ylabel('error')\n",
        "plt.title('Log-linear plot for gradient descent method convergence')\n",
        "plt.show()\n"
      ],
      "metadata": {
        "id": "pUM-6p1Y2Blu",
        "outputId": "f9c0ddda-df8d-4f7f-ad44-60239161b043",
        "colab": {
          "base_uri": "https://localhost:8080/",
          "height": 496
        }
      },
      "execution_count": 34,
      "outputs": [
        {
          "output_type": "stream",
          "name": "stdout",
          "text": [
            "initial x is: [1, 1]\n",
            "steps: 10, Loss:0.1753, x1: -1.0717, x2: 0.0986, x3: 0.6249\n",
            "steps: 20, Loss:0.0841, x1: -1.0714, x2: -0.0587, x3: 0.7296\n",
            "steps: 30, Loss:0.0730, x1: -1.0714, x2: -0.1135, x3: 0.7661\n",
            "steps: 40, Loss:0.0716, x1: -1.0714, x2: -0.1326, x3: 0.7789\n",
            "steps: 50, Loss:0.0715, x1: -1.0714, x2: -0.1393, x3: 0.7833\n",
            "steps: 60, Loss:0.0714, x1: -1.0714, x2: -0.1416, x3: 0.7849\n",
            "steps: 70, Loss:0.0714, x1: -1.0714, x2: -0.1424, x3: 0.7854\n",
            "steps: 80, Loss:0.0714, x1: -1.0714, x2: -0.1427, x3: 0.7856\n",
            "steps: 90, Loss:0.0714, x1: -1.0714, x2: -0.1428, x3: 0.7857\n",
            "steps: 100, Loss:0.0714, x1: -1.0714, x2: -0.1428, x3: 0.7857\n"
          ]
        },
        {
          "output_type": "display_data",
          "data": {
            "text/plain": [
              "<Figure size 432x288 with 1 Axes>"
            ],
            "image/png": "[encoded data removed]"
          },
          "metadata": {
            "needs_background": "light"
          }
        }
      ]
    },
    {
      "cell_type": "code",
      "source": [
        "import numpy as np\n",
        "import matplotlib.pyplot as plt\n",
        "\n",
        "def obj(x):\n",
        "    return 5 * x[0] ** 2 + 10 * x[1] ** 2 + 12 * x[0] * x[1] - 8 * x[0] - 14 * x[1] + 5\n",
        "\n",
        "def grad(x):\n",
        "    return np.array([10 * x[0] + 12 * x[1] - 8, 20 * x[1] + 12 * x[0] - 14])\n",
        "\n",
        "def get_x1(x):\n",
        "  return 1 - 2*x[0] - 3*x[1]\n",
        "\n",
        "init_x = [1,1]\n",
        "print('initial x is: {}'.format(init_x))\n",
        "lr = 0.5\n",
        "total_L = []\n",
        "H = np.array([[10, 12], [12, 20]])  # define the Hessian matrix\n",
        "\n",
        "\n",
        "for i in range(100):\n",
        "  L = obj(init_x)\n",
        "  grad_x = grad(init_x)\n",
        "  init_x = init_x - lr * np.matmul(np.linalg.inv(H), grad(init_x))\n",
        "  total_L.append(L)\n",
        "  if (i+1) % 10 == 0:\n",
        "    print('steps: {}, Loss:{:.4f}, x1: {:.4f}, x2: {:.4f}, x3: {:.4f}'.format(i+1, L, get_x1(init_x), init_x[0], init_x[1]))\n",
        "\n",
        "plt.yscale('log')\n",
        "plt.plot(total_L)\n",
        "plt.xlabel('iteration')\n",
        "plt.ylabel('error')\n",
        "plt.title('Log-linear plot for Newton method convergence')\n",
        "plt.show()\n"
      ],
      "metadata": {
        "id": "LltLiwKR5lSE",
        "outputId": "9ccf6116-51e8-4142-8835-f19e1b2e6334",
        "colab": {
          "base_uri": "https://localhost:8080/",
          "height": 496
        }
      },
      "execution_count": 35,
      "outputs": [
        {
          "output_type": "stream",
          "name": "stdout",
          "text": [
            "initial x is: [1, 1]\n",
            "steps: 10, Loss:0.0715, x1: -1.0743, x2: -0.1417, x3: 0.7859\n",
            "steps: 20, Loss:0.0714, x1: -1.0714, x2: -0.1429, x3: 0.7857\n",
            "steps: 30, Loss:0.0714, x1: -1.0714, x2: -0.1429, x3: 0.7857\n",
            "steps: 40, Loss:0.0714, x1: -1.0714, x2: -0.1429, x3: 0.7857\n",
            "steps: 50, Loss:0.0714, x1: -1.0714, x2: -0.1429, x3: 0.7857\n",
            "steps: 60, Loss:0.0714, x1: -1.0714, x2: -0.1429, x3: 0.7857\n",
            "steps: 70, Loss:0.0714, x1: -1.0714, x2: -0.1429, x3: 0.7857\n",
            "steps: 80, Loss:0.0714, x1: -1.0714, x2: -0.1429, x3: 0.7857\n",
            "steps: 90, Loss:0.0714, x1: -1.0714, x2: -0.1429, x3: 0.7857\n",
            "steps: 100, Loss:0.0714, x1: -1.0714, x2: -0.1429, x3: 0.7857\n"
          ]
        },
        {
          "output_type": "display_data",
          "data": {
            "text/plain": [
              "<Figure size 432x288 with 1 Axes>"
            ],
            "image/png": "[encoded data removed]"
          },
          "metadata": {
            "needs_background": "light"
          }
        }
      ]
    },
    {
      "cell_type": "markdown",
      "source": [
        "**P3**\n",
        "\n",
        "Let $H: a^Tx = c, x \\in \\mathbb{R^n}$ be a hyperplane. Let $x_1$ and $x_2$ be any two point on the plane, $a^Tx_1 = c$, $a^Tx_2 = c$, then $a^T(x_1 + x_2) = c$, and also $a^T(\\lambda x_1 + (1-\\lambda)x_2) = c$, which means $\\lambda x_1 + (1-\\lambda)x_2$ is a point that belongs to the hpyerplane H, thus H is convex"
      ],
      "metadata": {
        "id": "Sg5VmeRL7k_v"
      }
    },
    {
      "cell_type": "markdown",
      "source": [
        "**P4**\n",
        "\n",
        "\\begin{equation}\n",
        "\\min_p \\max_k {h(a^T_kp, I_t)}  \\\\\n",
        "s.t. 0 \\leq p_i \\leq p_{max}\n",
        "\\end{equation}\n",
        "\n",
        "a) Hessian of $h$ = $\\left\\{\\begin{array}{cl}\n",
        "2\\left(I_t / I^3\\right) \\mathbf{a}_k \\mathbf{a}_k^T & \\text { if } I \\leq I_t \\\\\n",
        "\\mathbf{0} & \\text { if } I_t \\leq I\n",
        "\\end{array}\\right.$\n",
        "\n",
        "since $a_k ak^T$ is positive semi-definate, the hessian of function h is convex. \n",
        "\n",
        "The feasible set of $p_i$ can be treated as a closed set that is a union of 2*N hyperplane, with N plane being $p_{i:n} \\geq 0$ and N plane of $p_{i:n} \\leq p_{max}$. Since the union of convex set is also a convex set, the feasible set here is a convex set. Thus the problem is a convex problem. \n",
        "\n",
        "b) The added constraint is linear in p, thus we can treat the added constraint as another hyperplane in the space p, which gives us a union of 2*N+1 hyperplane, since the union of convex set is still a convex set, the convexity of argument in a still holds, thus we will still be able to find a unique solution. \n",
        "\n",
        "c) the new constraint added in c is non-linear in the sense that, assume the optimal solution have p greater than 10, when we introduce the constraint in c, there can exist multiple local solutions that minimize the objective function, thus we cannot say there exist a unique solution to the problem\n"
      ],
      "metadata": {
        "id": "Q0fQwMlO9-rK"
      }
    },
    {
      "cell_type": "markdown",
      "source": [
        "**P5**\n",
        "\n",
        "define f = xy-c(x) \\\\\n",
        "hessian of f with respect of y = 0, which is positive semi-definite, which indicate the function f is convex. We know that the maximum of a convex function is still convex, thus, the function $c*(y)$ is convex with respect of y"
      ],
      "metadata": {
        "id": "SiTePK_lD6Sd"
      }
    }
  ]
}