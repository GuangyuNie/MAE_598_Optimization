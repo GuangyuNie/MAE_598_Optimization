{
  "nbformat": 4,
  "nbformat_minor": 0,
  "metadata": {
    "colab": {
      "provenance": [],
      "authorship_tag": "ABX9TyNCoJF6BcY1Se1EUjgF9DVl",
      "include_colab_link": true
    },
    "kernelspec": {
      "name": "python3",
      "display_name": "Python 3"
    },
    "language_info": {
      "name": "python"
    }
  },
  "cells": [
    {
      "cell_type": "markdown",
      "metadata": {
        "id": "view-in-github",
        "colab_type": "text"
      },
      "source": [
        "<a href=\"https://colab.research.google.com/github/GuangyuNie/MAE_598_Optimization/blob/master/HW2.ipynb\" target=\"_parent\"><img src=\"https://colab.research.google.com/assets/colab-badge.svg\" alt=\"Open In Colab\"/></a>"
      ]
    },
    {
      "cell_type": "markdown",
      "source": [
        "P1. Show stationry point of $f(x1,x2) = 2x_1^2 - 4x_1x_2 + 1.5x_2^2 + x_2$ is a saddle\n",
        "\n",
        "\\begin{equation}\n",
        "\\frac{\\partial f}{\\partial x} = \\begin{bmatrix}4x_1 - 4x_2 \\\\ -4x_1 + 3x_2 + 1 \\end{bmatrix} \\\\\n",
        "\\text{Let $\\frac{\\partial f}{\\partial x}$ = 0, we have:} \\\\\n",
        "x_2 = 1\\\\\n",
        "x_1 = 1\\\\\n",
        "Hf(x_1,x_2)|_{x_1=1,x_2=1} = \\begin{bmatrix}4& -4 \\\\ -4 & 3  \\end{bmatrix} \\\\\n",
        "\\text{$Hf$ evaluated at $x_1 = 1$ and $x_2 = 1$ is indefinite matrix, thus this stationary point is a saddle point}\n",
        "\\end{equation}\n",
        "   \n",
        "  \n",
        "\\begin{equation}\n",
        "f(x_1,x_2) - f(1,1) = \\nabla \\frac{\\partial f}{\\partial x}|_{x_1=1,x_2=1} \\begin{bmatrix}x_1 - 1 \\\\ x_2-1  \\end{bmatrix}\\\\+ \\frac{1}{2} \\begin{bmatrix}x_1 - 1 \\\\ x_2-1 \\end{bmatrix}^T  Hf|_{x_1=1,x_2=1} \\begin{bmatrix}x_1 - 1 \\\\ x_2-1 \\end{bmatrix} < 0 \\\\\n",
        "(2x_1 - 3x_2 + 1)(2x_1-x_2-1) < 0\n",
        "\\end{equation}  \n",
        "Thus, either $2x_1 - 3x_2 + 1 < 0 $ and $2x_1-x_2-1 > 0 $ or   \n",
        "$2x_1 - 3x_2 + 1 > 0 $ and $2x_1-x_2-1 < 0 $ \n",
        "\n",
        "\n"
      ],
      "metadata": {
        "id": "RTwcm6aPellO"
      }
    },
    {
      "cell_type": "markdown",
      "source": [
        "P2 \n",
        "\n",
        "\\begin{equation}\n",
        "\\begin{aligned}\n",
        "\\min_{x_1,x_2,x_3} &(x_1+1)^2 + x_2^2 + (x_3-1)^2 \\\\\n",
        "s.t. &x_1 + 2x_2 + 3x_3 = 1 \\\\\n",
        "\\end{aligned}\n",
        "\\end{equation}\n",
        "\n",
        "You can substitute the constraint into the equation, which will turn the optimization problem into an unconstraint problem, which will give a convex set. we calculate the hession to see if this is a convex function:\n",
        "\n",
        "\\begin{equation}\n",
        "\\begin{aligned}\n",
        "f(x_2,x_3) = &(2-2x_2-3x_3)^2 + x_2^2 + (x_3-1)^2  \\\\\n",
        "= &5 x_2^2 + 12 x_3 x_2 - 8 x_2 + 10 x_3^2 - 14 x_3 + 5\n",
        "\\end{aligned}\n",
        "\\end{equation}\n",
        "\n",
        "\\begin{equation}\n",
        "\\begin{aligned}\n",
        "Hf(x_2,x_3) = \n",
        "\\end{aligned}\n",
        "\\end{equation}"
      ],
      "metadata": {
        "id": "CCUT3Em7pZGa"
      }
    }
  ]
}