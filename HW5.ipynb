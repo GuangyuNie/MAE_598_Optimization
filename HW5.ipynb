{
  "nbformat": 4,
  "nbformat_minor": 0,
  "metadata": {
    "colab": {
      "provenance": [],
      "authorship_tag": "ABX9TyNbovETopikKC+DfVJl5gQd",
      "include_colab_link": true
    },
    "kernelspec": {
      "name": "python3",
      "display_name": "Python 3"
    },
    "language_info": {
      "name": "python"
    }
  },
  "cells": [
    {
      "cell_type": "markdown",
      "metadata": {
        "id": "view-in-github",
        "colab_type": "text"
      },
      "source": [
        "<a href=\"https://colab.research.google.com/github/GuangyuNie/MAE_598_Optimization/blob/master/HW5.ipynb\" target=\"_parent\"><img src=\"https://colab.research.google.com/assets/colab-badge.svg\" alt=\"Open In Colab\"/></a>"
      ]
    },
    {
      "cell_type": "code",
      "execution_count": 65,
      "metadata": {
        "id": "OJf4N4Cl9a7D"
      },
      "outputs": [],
      "source": [
        "import numpy as np\n",
        "import copy"
      ]
    },
    {
      "cell_type": "code",
      "source": [
        "# obj function f\n",
        "def f(x):\n",
        "    return x[0][0]**2 + (x[1][0] - 3)**2\n",
        "\n",
        "# dfdx\n",
        "def df(x):\n",
        "    return np.array([[2*x[0][0]],\n",
        "                    [2*x[1][0] - 6]]).T\n",
        "\n",
        "# constraint function g\n",
        "def g(x):\n",
        "    return np.array([[x[1][0]**2 - 2*x[0][0]],\n",
        "                    [(x[1][0] - 1)**2 + 5*x[0][0] - 15]]) \n",
        "\n",
        "# dgdx\n",
        "def dg(x):\n",
        "    return np.array([[-2, 2*x[1][0]],\n",
        "                    [5, 2*x[1][0]-2]])"
      ],
      "metadata": {
        "id": "DaWjEoZd9d6d"
      },
      "execution_count": 66,
      "outputs": []
    },
    {
      "cell_type": "code",
      "source": [
        "def line_search(x, s, mu, w_old, k):\n",
        "    t = 0.3\n",
        "    a = 1\n",
        "    w = np.zeros((2, 1))\n",
        "\n",
        "    w[0] = max(abs(mu[0]), 0.5 * (w_old[0] + abs(mu[0])))\n",
        "    w[1] = max(abs(mu[1]), 0.5 * (w_old[1] + abs(mu[1])))\n",
        "\n",
        "    dg_da_1 = max(0,np.matmul(dg(x)[0, :], s))\n",
        "    dg_da_2 = max(0,np.matmul(dg(x)[1, :], s))\n",
        "\n",
        "\n",
        "    dF_da = np.matmul(df(x), s) + (w[0, :] * dg_da_1 + w[1, :] * dg_da_2)\n",
        "\n",
        "    def F_a(x, w, a, s):\n",
        "        g1 = max(0, g(x + a*s)[0, :])\n",
        "        g2 = max(0, g(x + a*s)[1, :])\n",
        "        F = f(x + a*s) + (w[0, :] * g1 + w[1, :] * g2)\n",
        "        return F\n",
        " \n",
        "    phi = lambda x, w, a, t, dF_da: F_a(x, w, 0, 0) + a * t * dF_da\n",
        "\n",
        "    while phi(x, w, a, t, dF_da) < F_a(x, w, a, s):\n",
        "        a = 0.8 * a\n",
        "\n",
        "    return a, w"
      ],
      "metadata": {
        "id": "Bfiz_CrZ_S9I"
      },
      "execution_count": 67,
      "outputs": []
    },
    {
      "cell_type": "code",
      "source": [
        "def solveqp(x, W, df, g, dg):\n",
        "    A0 = dg(x)\n",
        "    b0 = g(x)  \n",
        "    mu0 = np.zeros((b0.shape[0], 1)) \n",
        "    mu = [] \n",
        "    active_set = []\n",
        "    terminate = False\n",
        "    while not terminate:\n",
        "        if len(active_set) == 0:\n",
        "            temp = W\n",
        "            s_and_mu = np.matmul(np.linalg.inv(temp), -df(x).T)\n",
        "            s = s_and_mu[:2, :]\n",
        "            mu = []\n",
        "\n",
        "        if len(active_set) != 0:\n",
        "            if len(active_set) == 1:\n",
        "                A = A0[active_set[0], :].reshape(1, -1)\n",
        "                b = b0[active_set[0], :]\n",
        "            if len(active_set) == 2:\n",
        "                A = copy.deepcopy(A0)\n",
        "                b = copy.deepcopy(b0)\n",
        "            temp = np.vstack((np.hstack((W, A.T)),\n",
        "                                np.hstack((A, np.zeros((A.shape[0], A.shape[0]))))))\n",
        "            s_and_mu = np.matmul(np.linalg.inv(temp), np.vstack((-df(x).T, -b)))\n",
        "            s = s_and_mu[:2, :]\n",
        "            mu = s_and_mu[2:, :]\n",
        "            if len(mu) == 1:\n",
        "                mu0[0] = s_and_mu[2:3, :]\n",
        "            if len(mu) == 2:\n",
        "                mu0[0] = s_and_mu[2:3, :]\n",
        "                mu0[1] = s_and_mu[3:, :]\n",
        "\n",
        "        qp_cons = np.round((np.matmul(A0, s.reshape(-1, 1)) + b0))\n",
        "\n",
        "\n",
        "        if len(mu) == 0:\n",
        "            mu_check = 1\n",
        "        elif min(mu) > 0:\n",
        "            mu_check = 1\n",
        "        else:\n",
        "            id_mu = np.argmin(np.array(mu))\n",
        "            mu.remove(min(mu)) # remove the least violated constraint\n",
        "            active_set.pop(id_mu)\n",
        "\n",
        "        if np.max(qp_cons) <= 0:\n",
        "            if mu_check == 1:\n",
        "                terminate = True\n",
        "                return s, mu0\n",
        "                \n",
        "        else:\n",
        "            index = np.argmax(qp_cons)\n",
        "            active_set.append(index) # add the most violated constraint\n",
        "            active_set = np.unique(np.array(active_set)).tolist()\n"
      ],
      "metadata": {
        "id": "V4V-Tudf-mdW"
      },
      "execution_count": 68,
      "outputs": []
    },
    {
      "cell_type": "code",
      "source": [
        "def BFGS(W, x, dx, s, mu):\n",
        "    y_k = (df(x) + np.matmul(mu.T, dg(x))) - (df(x - dx) + np.matmul(mu.T, dg(x - dx)))\n",
        "    temp = np.matmul(np.matmul(dx.T, W), dx)\n",
        "    if np.matmul((dx).T, y_k.T) >= 0.2 * np.matmul(np.matmul((dx).T, W), (dx)):\n",
        "        theta = 1\n",
        "    else:\n",
        "        theta = 0.8 * temp / (temp - np.matmul(dx.T, y_k.T))\n",
        "\n",
        "    dg_k = theta * y_k.T + (1 - theta) * np.matmul(W, dx)\n",
        "    W_new = W + np.matmul(dg_k, dg_k.T) / np.matmul(dg_k.T, s) - np.matmul(np.matmul(W, s), np.matmul(s.T, W)) / np.matmul(np.matmul(s.T, W), s)\n",
        "\n",
        "    return W_new\n",
        "    "
      ],
      "metadata": {
        "id": "W4DFzzC4_Wi8"
      },
      "execution_count": 69,
      "outputs": []
    },
    {
      "cell_type": "code",
      "source": [
        "x = np.array([[1.], [1.]])\n",
        "W = np.eye(x.shape[0]) # hessian\n",
        "w = np.zeros((2,1)) # weights of the merit function for line search\n",
        "mu_old = np.zeros((x.shape[0], 1))\n",
        "norm = np.linalg.norm(df(x) + np.matmul(mu_old.T, dg(x)))\n",
        "error = 1e-4 # termination creterion\n",
        "k = 0\n",
        "solution = []\n",
        "w_old = np.zeros((2, 1))\n",
        "while norm >= error:\n",
        "\n",
        "    # solve QP sub-problem\n",
        "    s, mu_new = solveqp(x, W, df, g, dg)\n",
        "  \n",
        "    alpha, w_new = line_search(x, s, mu_old, w_old, k)\n",
        "    w_old = w_new\n",
        "    # update current solution of x\n",
        "    dx = alpha*s\n",
        "    x = x + dx\n",
        "    # get new Hessian approx using BFGS\n",
        "    W = BFGS(W, x, dx, s, mu_new)\n",
        "    k += 1\n",
        "    norm = np.linalg.norm(df(x) + np.matmul(mu_new.T, dg(x)))\n",
        "    mu_old = mu_new\n",
        "    solution.append(x)\n",
        "\n",
        "print('solution is x1: {:.4f}, x2: {:.4f}'.format(x[0][0],x[1][0]))"
      ],
      "metadata": {
        "colab": {
          "base_uri": "https://localhost:8080/"
        },
        "id": "HfQxosHx_YIR",
        "outputId": "a11a99d2-1165-4641-cc82-a2488d57b055"
      },
      "execution_count": 70,
      "outputs": [
        {
          "output_type": "stream",
          "name": "stdout",
          "text": [
            "solution is x1: 1.0602, x2: 1.4562\n"
          ]
        }
      ]
    }
  ]
}