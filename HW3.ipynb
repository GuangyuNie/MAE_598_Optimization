{
  "nbformat": 4,
  "nbformat_minor": 0,
  "metadata": {
    "colab": {
      "provenance": [],
      "authorship_tag": "ABX9TyNOAvJcJh0lLFMV5zOqZwzE",
      "include_colab_link": true
    },
    "kernelspec": {
      "name": "python3",
      "display_name": "Python 3"
    },
    "language_info": {
      "name": "python"
    }
  },
  "cells": [
    {
      "cell_type": "markdown",
      "metadata": {
        "id": "view-in-github",
        "colab_type": "text"
      },
      "source": [
        "<a href=\"https://colab.research.google.com/github/GuangyuNie/MAE_598_Optimization/blob/master/HW3.ipynb\" target=\"_parent\"><img src=\"https://colab.research.google.com/assets/colab-badge.svg\" alt=\"Open In Colab\"/></a>"
      ]
    },
    {
      "cell_type": "markdown",
      "source": [
        "P1  \n",
        "The problem can be formulated as:\n",
        "\\begin{equation}\n",
        "\\min_{A12, A21} \\sum_1^{11} (\\hat{p} - p)^2\n",
        "\\end{equation}  "
      ],
      "metadata": {
        "id": "52Mv3ueBKbqR"
      }
    },
    {
      "cell_type": "code",
      "source": [
        "import torch\n",
        "import numpy as np\n",
        "import matplotlib.pyplot as plt\n",
        "\n",
        "x1 = torch.linspace(0,1,11)\n",
        "x2 = 1 - x1\n",
        "a = torch.tensor([[8.07131, 1730.63, 233.426], [7.43155, 1554.679, 240.337]])\n",
        "T = 20\n",
        "\n",
        "p_water = 10 ** (a[0, 0] - a[0, 1] / (T + a[0, 2]))\n",
        "p_dio = 10 ** (a[1, 0] - a[1, 1] / (T + a[1, 2]))\n",
        "p_real = torch.tensor([28.1, 34.4, 36.7, 36.9, 36.8, 36.7, 36.5, 35.4, 32.9, 27.7, 17.5])\n",
        "\n",
        "A = torch.tensor([1.,1.],requires_grad=True)\n",
        "steps = 100\n",
        "lr = 1e-3\n",
        "for i in range(steps):\n",
        "\n",
        "  p_hat = x1 * torch.exp(A[0] * (A[1] * x2 / (A[0] * x1 + A[1] * x2)) ** 2) * p_water + \\\n",
        "    x2 * torch.exp(A[1] * (A[0] * x1 / (A[0] * x1 + A[1] * x2)) ** 2) * p_dio\n",
        "  L = torch.sum((p_hat - p_real) ** 2)\n",
        "\n",
        "  L.backward()\n",
        "  with torch.no_grad():\n",
        "    A += -lr*A.grad\n",
        "    A.grad.zero_()\n",
        "\n",
        "  if (i+1)%10 == 0: \n",
        "    print('Steps: {} Loss: {} A12: {:.4f} A21: {:.4f}'.format(i+1,L,A[0].item(),A[1].item()))\n",
        "\n",
        "p_hat = p_hat.detach().numpy()\n",
        "p_real = p_real.detach().numpy()\n",
        "x1 = x1.detach().numpy()\n",
        "\n",
        "\n",
        "      \n",
        "\n"
      ],
      "metadata": {
        "colab": {
          "base_uri": "https://localhost:8080/"
        },
        "id": "FaiV41HlLOq3",
        "outputId": "bf87f976-8520-43d8-8aba-1431bdd72763"
      },
      "execution_count": 32,
      "outputs": [
        {
          "output_type": "stream",
          "name": "stdout",
          "text": [
            "Steps: 10 Loss: 0.8566118478775024 A12: 1.9179 A21: 1.7236\n",
            "Steps: 20 Loss: 0.6902010440826416 A12: 1.9450 A21: 1.7004\n",
            "Steps: 30 Loss: 0.6723960638046265 A12: 1.9539 A21: 1.6929\n",
            "Steps: 40 Loss: 0.6704491972923279 A12: 1.9569 A21: 1.6904\n",
            "Steps: 50 Loss: 0.6702359914779663 A12: 1.9579 A21: 1.6896\n",
            "Steps: 60 Loss: 0.6702125668525696 A12: 1.9583 A21: 1.6893\n",
            "Steps: 70 Loss: 0.6702074408531189 A12: 1.9584 A21: 1.6892\n",
            "Steps: 80 Loss: 0.6702107191085815 A12: 1.9584 A21: 1.6892\n",
            "Steps: 90 Loss: 0.6702101826667786 A12: 1.9584 A21: 1.6892\n",
            "Steps: 100 Loss: 0.6702091097831726 A12: 1.9584 A21: 1.6892\n"
          ]
        }
      ]
    },
    {
      "cell_type": "code",
      "source": [
        "\n",
        "plt.plot(x1, p_hat, label='Predicted Pressure')\n",
        "plt.plot(x1, p_real, label='Actual Pressure')\n",
        "plt.xlabel('x1')\n",
        "plt.ylabel('Pressure')\n",
        "plt.legend()\n",
        "plt.title('Comparison between predicted pressure and actual pressure')\n",
        "plt.show()"
      ],
      "metadata": {
        "colab": {
          "base_uri": "https://localhost:8080/",
          "height": 332
        },
        "id": "7KUskkULQk2F",
        "outputId": "4321607e-64c8-4666-8292-88b84b11eb66"
      },
      "execution_count": 33,
      "outputs": [
        {
          "output_type": "stream",
          "name": "stdout",
          "text": [
            "[28.82411  34.644314 36.45297  36.867313 36.87401  36.749832 36.390446\n",
            " 35.384823 32.947784 27.730003 17.473242] [28.1 34.4 36.7 36.9 36.8 36.7 36.5 35.4 32.9 27.7 17.5] [0.  0.1 0.2 0.3 0.4 0.5 0.6 0.7 0.8 0.9 1. ]\n"
          ]
        },
        {
          "output_type": "display_data",
          "data": {
            "text/plain": [
              "<Figure size 432x288 with 1 Axes>"
            ],
            "image/png": "[encoded data removed]"
          },
          "metadata": {
            "needs_background": "light"
          }
        }
      ]
    },
    {
      "cell_type": "markdown",
      "source": [
        "The predicted model fit the real data very well."
      ],
      "metadata": {
        "id": "uoUtilNHRRgr"
      }
    },
    {
      "cell_type": "markdown",
      "source": [
        "P2: "
      ],
      "metadata": {
        "id": "ntoL2bvASmyv"
      }
    },
    {
      "cell_type": "code",
      "source": [
        "!pip install scikit-optimize"
      ],
      "metadata": {
        "colab": {
          "base_uri": "https://localhost:8080/"
        },
        "id": "3XoBJ_s1StBf",
        "outputId": "f8779ecc-b33f-4251-b173-104941354946"
      },
      "execution_count": 37,
      "outputs": [
        {
          "output_type": "stream",
          "name": "stdout",
          "text": [
            "Looking in indexes: https://pypi.org/simple, https://us-python.pkg.dev/colab-wheels/public/simple/\n",
            "Collecting scikit-optimize\n",
            "  Downloading scikit_optimize-0.9.0-py2.py3-none-any.whl (100 kB)\n",
            "\u001b[K     |████████████████████████████████| 100 kB 4.1 MB/s \n",
            "\u001b[?25hRequirement already satisfied: joblib>=0.11 in /usr/local/lib/python3.7/dist-packages (from scikit-optimize) (1.2.0)\n",
            "Requirement already satisfied: numpy>=1.13.3 in /usr/local/lib/python3.7/dist-packages (from scikit-optimize) (1.21.6)\n",
            "Collecting pyaml>=16.9\n",
            "  Downloading pyaml-21.10.1-py2.py3-none-any.whl (24 kB)\n",
            "Requirement already satisfied: scikit-learn>=0.20.0 in /usr/local/lib/python3.7/dist-packages (from scikit-optimize) (1.0.2)\n",
            "Requirement already satisfied: scipy>=0.19.1 in /usr/local/lib/python3.7/dist-packages (from scikit-optimize) (1.7.3)\n",
            "Requirement already satisfied: PyYAML in /usr/local/lib/python3.7/dist-packages (from pyaml>=16.9->scikit-optimize) (6.0)\n",
            "Requirement already satisfied: threadpoolctl>=2.0.0 in /usr/local/lib/python3.7/dist-packages (from scikit-learn>=0.20.0->scikit-optimize) (3.1.0)\n",
            "Installing collected packages: pyaml, scikit-optimize\n",
            "Successfully installed pyaml-21.10.1 scikit-optimize-0.9.0\n"
          ]
        }
      ]
    },
    {
      "cell_type": "code",
      "source": [
        "import numpy as np\n",
        "import matplotlib.pyplot as plt\n",
        "from skopt import gp_minimize"
      ],
      "metadata": {
        "id": "iGPlU3-CSnnO"
      },
      "execution_count": 47,
      "outputs": []
    },
    {
      "cell_type": "code",
      "source": [
        "def f(x):\n",
        "    return (4 - 2.1 * x[0] ** 2 + x[0] ** 4 / 3) * x[0] ** 2 + x[0] * x[1] + (-4 + 4 * x[1] ** 2) * x[1] ** 2"
      ],
      "metadata": {
        "id": "BUWCXKD9S_xL"
      },
      "execution_count": 48,
      "outputs": []
    },
    {
      "cell_type": "code",
      "source": [
        "res = gp_minimize(f,                  # the function to minimize\n",
        "                  [(-3.0, 3.0),(-2.0,2.0)],      # the bounds on each dimension of x\n",
        "                  acq_func=\"EI\",      # the acquisition function\n",
        "                  n_calls=100,         # the number of evaluations of f\n",
        "                  n_random_starts=5,  # the number of random initialization points\n",
        "                  noise=0.001**2,       # the noise level (optional)\n",
        "                  random_state=1234)\n",
        "\n",
        "print('Objective: {:.4f} x1: {:.4f} x2: {:.4f}'.format(res.fun,res.x[0],res.x[1]))"
      ],
      "metadata": {
        "colab": {
          "base_uri": "https://localhost:8080/"
        },
        "id": "2bP8e__hTT-b",
        "outputId": "eb5048cf-e773-4426-fd79-4293d81d805b"
      },
      "execution_count": 55,
      "outputs": [
        {
          "output_type": "stream",
          "name": "stdout",
          "text": [
            "Objective: -1.0307 x1: 0.0913 x2: -0.7019\n"
          ]
        }
      ]
    },
    {
      "cell_type": "code",
      "source": [
        "from skopt.plots import plot_convergence\n",
        "plot_convergence(res);"
      ],
      "metadata": {
        "colab": {
          "base_uri": "https://localhost:8080/",
          "height": 297
        },
        "id": "xWliwsV6Ui8R",
        "outputId": "fa9519d3-ea9a-4e44-9acc-b2c2f3173488"
      },
      "execution_count": 56,
      "outputs": [
        {
          "output_type": "display_data",
          "data": {
            "text/plain": [
              "<Figure size 432x288 with 1 Axes>"
            ],
            "image/png": "[encoded data removed]"
          },
          "metadata": {
            "needs_background": "light"
          }
        }
      ]
    }
  ]
}